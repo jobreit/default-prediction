{
 "cells": [
  {
   "cell_type": "markdown",
   "metadata": {},
   "source": [
    "# Big Data in Finance: Assignment 1"
   ]
  },
  {
   "cell_type": "markdown",
   "metadata": {},
   "source": [
    "This jupyter notebook accompanies the PDF submitted by our team and does not include explanations to many questions asked in the prompts.\n",
    "\n",
    "<b>Submission by:</b><br>\n",
    "Alice Castrucci - 01588236<br>\n",
    "Danesh Gilani - 01570788<br>\n",
    "Johannes Breitschwerdt - 01612332<br>\n",
    "Jose Alvarez - 01563720<br>"
   ]
  },
  {
   "cell_type": "markdown",
   "metadata": {},
   "source": [
    "# Part 1"
   ]
  },
  {
   "cell_type": "markdown",
   "metadata": {},
   "source": [
    "First, we load all the libaries required for this notebook, and load the data"
   ]
  },
  {
   "cell_type": "code",
   "execution_count": 113,
   "metadata": {},
   "outputs": [],
   "source": [
    "#Import all libraries for this notebook\n",
    "import pandas as pd\n",
    "import numpy as np\n",
    "\n",
    "from sklearn import model_selection\n",
    "\n",
    "from sklearn.preprocessing import StandardScaler\n",
    "from sklearn.preprocessing import normalize\n",
    "\n",
    "from sklearn.discriminant_analysis import LinearDiscriminantAnalysis\n",
    "from sklearn.tree import DecisionTreeClassifier\n",
    "from sklearn.neighbors import KNeighborsClassifier\n",
    "from sklearn.linear_model import LogisticRegression\n",
    "\n",
    "from sklearn.utils import shuffle\n",
    "from sklearn.model_selection import KFold\n",
    "from imblearn.under_sampling import RandomUnderSampler\n",
    "\n",
    "from sklearn.model_selection import cross_val_predict\n",
    "from sklearn.model_selection import cross_val_score\n",
    "from sklearn.metrics import confusion_matrix\n",
    "\n",
    "import scikitplot as skplt\n",
    "from sklearn.metrics import roc_curve,auc\n",
    "import matplotlib.pylab as plt\n",
    "from scipy import interp\n",
    "\n",
    "from sklearn.linear_model import Lasso\n",
    "\n",
    "import warnings\n",
    "warnings.filterwarnings('ignore')"
   ]
  },
  {
   "cell_type": "code",
   "execution_count": 201,
   "metadata": {},
   "outputs": [
    {
     "data": {
      "text/html": [
       "<div>\n",
       "<style scoped>\n",
       "    .dataframe tbody tr th:only-of-type {\n",
       "        vertical-align: middle;\n",
       "    }\n",
       "\n",
       "    .dataframe tbody tr th {\n",
       "        vertical-align: top;\n",
       "    }\n",
       "\n",
       "    .dataframe thead th {\n",
       "        text-align: right;\n",
       "    }\n",
       "</style>\n",
       "<table border=\"1\" class=\"dataframe\">\n",
       "  <thead>\n",
       "    <tr style=\"text-align: right;\">\n",
       "      <th></th>\n",
       "      <th>id</th>\n",
       "      <th>loan_status</th>\n",
       "      <th>loan_amnt</th>\n",
       "      <th>term</th>\n",
       "      <th>int_rate</th>\n",
       "      <th>grade</th>\n",
       "      <th>sub_grade</th>\n",
       "      <th>installment</th>\n",
       "      <th>pymnt_plan</th>\n",
       "      <th>annual_inc</th>\n",
       "      <th>...</th>\n",
       "      <th>pub_rec_bankruptcies</th>\n",
       "      <th>revol_bal</th>\n",
       "      <th>revol_util</th>\n",
       "      <th>tax_liens</th>\n",
       "      <th>tot_cur_bal</th>\n",
       "      <th>tot_hi_cred_lim</th>\n",
       "      <th>total_acc</th>\n",
       "      <th>total_bal_ex_mort</th>\n",
       "      <th>total_bal_il</th>\n",
       "      <th>total_bc_limit</th>\n",
       "    </tr>\n",
       "  </thead>\n",
       "  <tbody>\n",
       "    <tr>\n",
       "      <th>0</th>\n",
       "      <td>114133086</td>\n",
       "      <td>Current</td>\n",
       "      <td>18000.0</td>\n",
       "      <td>36</td>\n",
       "      <td>11.99</td>\n",
       "      <td>1</td>\n",
       "      <td>9</td>\n",
       "      <td>597.78</td>\n",
       "      <td>0</td>\n",
       "      <td>40800.0</td>\n",
       "      <td>...</td>\n",
       "      <td>0.0</td>\n",
       "      <td>11022.0</td>\n",
       "      <td>62.6</td>\n",
       "      <td>0.0</td>\n",
       "      <td>73967.0</td>\n",
       "      <td>92443.0</td>\n",
       "      <td>67.0</td>\n",
       "      <td>73967.0</td>\n",
       "      <td>62945.0</td>\n",
       "      <td>12700.0</td>\n",
       "    </tr>\n",
       "    <tr>\n",
       "      <th>1</th>\n",
       "      <td>113327093</td>\n",
       "      <td>Current</td>\n",
       "      <td>36000.0</td>\n",
       "      <td>36</td>\n",
       "      <td>16.02</td>\n",
       "      <td>2</td>\n",
       "      <td>14</td>\n",
       "      <td>1266.01</td>\n",
       "      <td>0</td>\n",
       "      <td>98000.0</td>\n",
       "      <td>...</td>\n",
       "      <td>0.0</td>\n",
       "      <td>24455.0</td>\n",
       "      <td>63.5</td>\n",
       "      <td>0.0</td>\n",
       "      <td>37296.0</td>\n",
       "      <td>55621.0</td>\n",
       "      <td>28.0</td>\n",
       "      <td>37296.0</td>\n",
       "      <td>12841.0</td>\n",
       "      <td>17200.0</td>\n",
       "    </tr>\n",
       "    <tr>\n",
       "      <th>2</th>\n",
       "      <td>119396821</td>\n",
       "      <td>Current</td>\n",
       "      <td>1200.0</td>\n",
       "      <td>36</td>\n",
       "      <td>16.02</td>\n",
       "      <td>2</td>\n",
       "      <td>14</td>\n",
       "      <td>42.21</td>\n",
       "      <td>0</td>\n",
       "      <td>48000.0</td>\n",
       "      <td>...</td>\n",
       "      <td>0.0</td>\n",
       "      <td>8371.0</td>\n",
       "      <td>85.4</td>\n",
       "      <td>0.0</td>\n",
       "      <td>24227.0</td>\n",
       "      <td>35259.0</td>\n",
       "      <td>24.0</td>\n",
       "      <td>24227.0</td>\n",
       "      <td>15856.0</td>\n",
       "      <td>7800.0</td>\n",
       "    </tr>\n",
       "    <tr>\n",
       "      <th>3</th>\n",
       "      <td>113509028</td>\n",
       "      <td>Current</td>\n",
       "      <td>24000.0</td>\n",
       "      <td>60</td>\n",
       "      <td>10.42</td>\n",
       "      <td>1</td>\n",
       "      <td>7</td>\n",
       "      <td>514.91</td>\n",
       "      <td>0</td>\n",
       "      <td>63000.0</td>\n",
       "      <td>...</td>\n",
       "      <td>0.0</td>\n",
       "      <td>6162.0</td>\n",
       "      <td>38.3</td>\n",
       "      <td>0.0</td>\n",
       "      <td>124925.0</td>\n",
       "      <td>196850.0</td>\n",
       "      <td>15.0</td>\n",
       "      <td>6612.0</td>\n",
       "      <td>0.0</td>\n",
       "      <td>13500.0</td>\n",
       "    </tr>\n",
       "    <tr>\n",
       "      <th>4</th>\n",
       "      <td>114749248</td>\n",
       "      <td>Current</td>\n",
       "      <td>12000.0</td>\n",
       "      <td>36</td>\n",
       "      <td>7.07</td>\n",
       "      <td>0</td>\n",
       "      <td>1</td>\n",
       "      <td>370.91</td>\n",
       "      <td>0</td>\n",
       "      <td>120000.0</td>\n",
       "      <td>...</td>\n",
       "      <td>0.0</td>\n",
       "      <td>15025.0</td>\n",
       "      <td>26.7</td>\n",
       "      <td>0.0</td>\n",
       "      <td>15720.0</td>\n",
       "      <td>57242.0</td>\n",
       "      <td>12.0</td>\n",
       "      <td>15720.0</td>\n",
       "      <td>0.0</td>\n",
       "      <td>47800.0</td>\n",
       "    </tr>\n",
       "  </tbody>\n",
       "</table>\n",
       "<p>5 rows × 48 columns</p>\n",
       "</div>"
      ],
      "text/plain": [
       "          id loan_status  loan_amnt  term  int_rate  grade  sub_grade  \\\n",
       "0  114133086     Current    18000.0    36     11.99      1          9   \n",
       "1  113327093     Current    36000.0    36     16.02      2         14   \n",
       "2  119396821     Current     1200.0    36     16.02      2         14   \n",
       "3  113509028     Current    24000.0    60     10.42      1          7   \n",
       "4  114749248     Current    12000.0    36      7.07      0          1   \n",
       "\n",
       "   installment  pymnt_plan  annual_inc       ...        pub_rec_bankruptcies  \\\n",
       "0       597.78           0     40800.0       ...                         0.0   \n",
       "1      1266.01           0     98000.0       ...                         0.0   \n",
       "2        42.21           0     48000.0       ...                         0.0   \n",
       "3       514.91           0     63000.0       ...                         0.0   \n",
       "4       370.91           0    120000.0       ...                         0.0   \n",
       "\n",
       "   revol_bal  revol_util  tax_liens  tot_cur_bal  tot_hi_cred_lim  total_acc  \\\n",
       "0    11022.0        62.6        0.0      73967.0          92443.0       67.0   \n",
       "1    24455.0        63.5        0.0      37296.0          55621.0       28.0   \n",
       "2     8371.0        85.4        0.0      24227.0          35259.0       24.0   \n",
       "3     6162.0        38.3        0.0     124925.0         196850.0       15.0   \n",
       "4    15025.0        26.7        0.0      15720.0          57242.0       12.0   \n",
       "\n",
       "   total_bal_ex_mort  total_bal_il  total_bc_limit  \n",
       "0            73967.0       62945.0         12700.0  \n",
       "1            37296.0       12841.0         17200.0  \n",
       "2            24227.0       15856.0          7800.0  \n",
       "3             6612.0           0.0         13500.0  \n",
       "4            15720.0           0.0         47800.0  \n",
       "\n",
       "[5 rows x 48 columns]"
      ]
     },
     "execution_count": 201,
     "metadata": {},
     "output_type": "execute_result"
    }
   ],
   "source": [
    "#Load data for part 1\n",
    "df = pd.read_csv('Loan_data_part_I.csv')\n",
    "df.head()"
   ]
  },
  {
   "cell_type": "markdown",
   "metadata": {},
   "source": [
    "Next, we convert the $loan\\_status$ column to be binary, with 0 for 'Current' and 1 for 'Fail'"
   ]
  },
  {
   "cell_type": "code",
   "execution_count": 202,
   "metadata": {},
   "outputs": [
    {
     "data": {
      "text/html": [
       "<div>\n",
       "<style scoped>\n",
       "    .dataframe tbody tr th:only-of-type {\n",
       "        vertical-align: middle;\n",
       "    }\n",
       "\n",
       "    .dataframe tbody tr th {\n",
       "        vertical-align: top;\n",
       "    }\n",
       "\n",
       "    .dataframe thead th {\n",
       "        text-align: right;\n",
       "    }\n",
       "</style>\n",
       "<table border=\"1\" class=\"dataframe\">\n",
       "  <thead>\n",
       "    <tr style=\"text-align: right;\">\n",
       "      <th></th>\n",
       "      <th>loan_status</th>\n",
       "      <th>loan_amnt</th>\n",
       "      <th>term</th>\n",
       "      <th>int_rate</th>\n",
       "      <th>grade</th>\n",
       "      <th>sub_grade</th>\n",
       "      <th>installment</th>\n",
       "      <th>pymnt_plan</th>\n",
       "      <th>annual_inc</th>\n",
       "      <th>emp_length</th>\n",
       "      <th>...</th>\n",
       "      <th>pub_rec_bankruptcies</th>\n",
       "      <th>revol_bal</th>\n",
       "      <th>revol_util</th>\n",
       "      <th>tax_liens</th>\n",
       "      <th>tot_cur_bal</th>\n",
       "      <th>tot_hi_cred_lim</th>\n",
       "      <th>total_acc</th>\n",
       "      <th>total_bal_ex_mort</th>\n",
       "      <th>total_bal_il</th>\n",
       "      <th>total_bc_limit</th>\n",
       "    </tr>\n",
       "  </thead>\n",
       "  <tbody>\n",
       "    <tr>\n",
       "      <th>0</th>\n",
       "      <td>0</td>\n",
       "      <td>18000.0</td>\n",
       "      <td>36</td>\n",
       "      <td>11.99</td>\n",
       "      <td>1</td>\n",
       "      <td>9</td>\n",
       "      <td>597.78</td>\n",
       "      <td>0</td>\n",
       "      <td>40800.0</td>\n",
       "      <td>0</td>\n",
       "      <td>...</td>\n",
       "      <td>0.0</td>\n",
       "      <td>11022.0</td>\n",
       "      <td>62.6</td>\n",
       "      <td>0.0</td>\n",
       "      <td>73967.0</td>\n",
       "      <td>92443.0</td>\n",
       "      <td>67.0</td>\n",
       "      <td>73967.0</td>\n",
       "      <td>62945.0</td>\n",
       "      <td>12700.0</td>\n",
       "    </tr>\n",
       "    <tr>\n",
       "      <th>1</th>\n",
       "      <td>0</td>\n",
       "      <td>36000.0</td>\n",
       "      <td>36</td>\n",
       "      <td>16.02</td>\n",
       "      <td>2</td>\n",
       "      <td>14</td>\n",
       "      <td>1266.01</td>\n",
       "      <td>0</td>\n",
       "      <td>98000.0</td>\n",
       "      <td>10</td>\n",
       "      <td>...</td>\n",
       "      <td>0.0</td>\n",
       "      <td>24455.0</td>\n",
       "      <td>63.5</td>\n",
       "      <td>0.0</td>\n",
       "      <td>37296.0</td>\n",
       "      <td>55621.0</td>\n",
       "      <td>28.0</td>\n",
       "      <td>37296.0</td>\n",
       "      <td>12841.0</td>\n",
       "      <td>17200.0</td>\n",
       "    </tr>\n",
       "    <tr>\n",
       "      <th>2</th>\n",
       "      <td>0</td>\n",
       "      <td>1200.0</td>\n",
       "      <td>36</td>\n",
       "      <td>16.02</td>\n",
       "      <td>2</td>\n",
       "      <td>14</td>\n",
       "      <td>42.21</td>\n",
       "      <td>0</td>\n",
       "      <td>48000.0</td>\n",
       "      <td>1</td>\n",
       "      <td>...</td>\n",
       "      <td>0.0</td>\n",
       "      <td>8371.0</td>\n",
       "      <td>85.4</td>\n",
       "      <td>0.0</td>\n",
       "      <td>24227.0</td>\n",
       "      <td>35259.0</td>\n",
       "      <td>24.0</td>\n",
       "      <td>24227.0</td>\n",
       "      <td>15856.0</td>\n",
       "      <td>7800.0</td>\n",
       "    </tr>\n",
       "    <tr>\n",
       "      <th>3</th>\n",
       "      <td>0</td>\n",
       "      <td>24000.0</td>\n",
       "      <td>60</td>\n",
       "      <td>10.42</td>\n",
       "      <td>1</td>\n",
       "      <td>7</td>\n",
       "      <td>514.91</td>\n",
       "      <td>0</td>\n",
       "      <td>63000.0</td>\n",
       "      <td>10</td>\n",
       "      <td>...</td>\n",
       "      <td>0.0</td>\n",
       "      <td>6162.0</td>\n",
       "      <td>38.3</td>\n",
       "      <td>0.0</td>\n",
       "      <td>124925.0</td>\n",
       "      <td>196850.0</td>\n",
       "      <td>15.0</td>\n",
       "      <td>6612.0</td>\n",
       "      <td>0.0</td>\n",
       "      <td>13500.0</td>\n",
       "    </tr>\n",
       "    <tr>\n",
       "      <th>4</th>\n",
       "      <td>0</td>\n",
       "      <td>12000.0</td>\n",
       "      <td>36</td>\n",
       "      <td>7.07</td>\n",
       "      <td>0</td>\n",
       "      <td>1</td>\n",
       "      <td>370.91</td>\n",
       "      <td>0</td>\n",
       "      <td>120000.0</td>\n",
       "      <td>4</td>\n",
       "      <td>...</td>\n",
       "      <td>0.0</td>\n",
       "      <td>15025.0</td>\n",
       "      <td>26.7</td>\n",
       "      <td>0.0</td>\n",
       "      <td>15720.0</td>\n",
       "      <td>57242.0</td>\n",
       "      <td>12.0</td>\n",
       "      <td>15720.0</td>\n",
       "      <td>0.0</td>\n",
       "      <td>47800.0</td>\n",
       "    </tr>\n",
       "  </tbody>\n",
       "</table>\n",
       "<p>5 rows × 47 columns</p>\n",
       "</div>"
      ],
      "text/plain": [
       "   loan_status  loan_amnt  term  int_rate  grade  sub_grade  installment  \\\n",
       "0            0    18000.0    36     11.99      1          9       597.78   \n",
       "1            0    36000.0    36     16.02      2         14      1266.01   \n",
       "2            0     1200.0    36     16.02      2         14        42.21   \n",
       "3            0    24000.0    60     10.42      1          7       514.91   \n",
       "4            0    12000.0    36      7.07      0          1       370.91   \n",
       "\n",
       "   pymnt_plan  annual_inc  emp_length       ...        pub_rec_bankruptcies  \\\n",
       "0           0     40800.0           0       ...                         0.0   \n",
       "1           0     98000.0          10       ...                         0.0   \n",
       "2           0     48000.0           1       ...                         0.0   \n",
       "3           0     63000.0          10       ...                         0.0   \n",
       "4           0    120000.0           4       ...                         0.0   \n",
       "\n",
       "   revol_bal  revol_util  tax_liens  tot_cur_bal  tot_hi_cred_lim  total_acc  \\\n",
       "0    11022.0        62.6        0.0      73967.0          92443.0       67.0   \n",
       "1    24455.0        63.5        0.0      37296.0          55621.0       28.0   \n",
       "2     8371.0        85.4        0.0      24227.0          35259.0       24.0   \n",
       "3     6162.0        38.3        0.0     124925.0         196850.0       15.0   \n",
       "4    15025.0        26.7        0.0      15720.0          57242.0       12.0   \n",
       "\n",
       "   total_bal_ex_mort  total_bal_il  total_bc_limit  \n",
       "0            73967.0       62945.0         12700.0  \n",
       "1            37296.0       12841.0         17200.0  \n",
       "2            24227.0       15856.0          7800.0  \n",
       "3             6612.0           0.0         13500.0  \n",
       "4            15720.0           0.0         47800.0  \n",
       "\n",
       "[5 rows x 47 columns]"
      ]
     },
     "execution_count": 202,
     "metadata": {},
     "output_type": "execute_result"
    }
   ],
   "source": [
    "#Make loan_status binary: current = 0, fail = 1\n",
    "df['loan_status'] = df['loan_status'].replace(['Current', 'Fail'], [0, 1])\n",
    "df = df.drop(['id'], axis = 1) #drop id from dataframe\n",
    "df.head()"
   ]
  },
  {
   "cell_type": "markdown",
   "metadata": {},
   "source": [
    "We can now easily gain some insight into the data by understanding how many negatives ('Current' or no default) and positives ('Fail' or default) observations are present."
   ]
  },
  {
   "cell_type": "code",
   "execution_count": 116,
   "metadata": {},
   "outputs": [
    {
     "name": "stdout",
     "output_type": "stream",
     "text": [
      "There are 61072 rows in this dataset, with 9666 or 15.83 % 'loan_status = fail'\n"
     ]
    }
   ],
   "source": [
    "#Return the number of default in the data\n",
    "nrows = len(df)\n",
    "df_fail = df['loan_status'].sum()\n",
    "print('There are', nrows, 'rows in this dataset, with', df_fail, 'or', round(df_fail/nrows*100,2), '% \\'loan_status = fail\\'')"
   ]
  },
  {
   "cell_type": "markdown",
   "metadata": {},
   "source": [
    "Next, we check for missing values in each cell of the data. We find that all there are no missing values in any cells."
   ]
  },
  {
   "cell_type": "code",
   "execution_count": 117,
   "metadata": {},
   "outputs": [
    {
     "name": "stdout",
     "output_type": "stream",
     "text": [
      "There are 0 instances of missing data in all 47 columns\n"
     ]
    }
   ],
   "source": [
    "#Check each column for \"null\" values\n",
    "print('There are', sum(df.isnull().sum()), 'instances of missing data in all', len(df.columns), 'columns')"
   ]
  },
  {
   "cell_type": "markdown",
   "metadata": {},
   "source": [
    "Subsequently, since the data contains three attributes with categorical data ('home_ownership', 'purpose', 'verification_status'), we replace these columns with dummy variable columns with binary data {0,1}. "
   ]
  },
  {
   "cell_type": "code",
   "execution_count": 118,
   "metadata": {},
   "outputs": [],
   "source": [
    "#Convert categorical columns to binary\n",
    "df_dum = pd.get_dummies(df, columns = ['home_ownership', 'purpose', 'verification_status'], drop_first = True)"
   ]
  },
  {
   "cell_type": "code",
   "execution_count": 119,
   "metadata": {},
   "outputs": [
    {
     "data": {
      "text/html": [
       "<div>\n",
       "<style scoped>\n",
       "    .dataframe tbody tr th:only-of-type {\n",
       "        vertical-align: middle;\n",
       "    }\n",
       "\n",
       "    .dataframe tbody tr th {\n",
       "        vertical-align: top;\n",
       "    }\n",
       "\n",
       "    .dataframe thead th {\n",
       "        text-align: right;\n",
       "    }\n",
       "</style>\n",
       "<table border=\"1\" class=\"dataframe\">\n",
       "  <thead>\n",
       "    <tr style=\"text-align: right;\">\n",
       "      <th></th>\n",
       "      <th>loan_status</th>\n",
       "      <th>loan_amnt</th>\n",
       "      <th>term</th>\n",
       "      <th>int_rate</th>\n",
       "      <th>grade</th>\n",
       "      <th>sub_grade</th>\n",
       "      <th>installment</th>\n",
       "      <th>pymnt_plan</th>\n",
       "      <th>annual_inc</th>\n",
       "      <th>emp_length</th>\n",
       "      <th>...</th>\n",
       "      <th>purpose_4</th>\n",
       "      <th>purpose_5</th>\n",
       "      <th>purpose_6</th>\n",
       "      <th>purpose_7</th>\n",
       "      <th>purpose_8</th>\n",
       "      <th>purpose_9</th>\n",
       "      <th>purpose_10</th>\n",
       "      <th>purpose_11</th>\n",
       "      <th>verification_status_1</th>\n",
       "      <th>verification_status_2</th>\n",
       "    </tr>\n",
       "  </thead>\n",
       "  <tbody>\n",
       "    <tr>\n",
       "      <th>0</th>\n",
       "      <td>0</td>\n",
       "      <td>18000.0</td>\n",
       "      <td>36</td>\n",
       "      <td>11.99</td>\n",
       "      <td>1</td>\n",
       "      <td>9</td>\n",
       "      <td>597.78</td>\n",
       "      <td>0</td>\n",
       "      <td>40800.0</td>\n",
       "      <td>0</td>\n",
       "      <td>...</td>\n",
       "      <td>0</td>\n",
       "      <td>0</td>\n",
       "      <td>0</td>\n",
       "      <td>0</td>\n",
       "      <td>0</td>\n",
       "      <td>0</td>\n",
       "      <td>0</td>\n",
       "      <td>0</td>\n",
       "      <td>0</td>\n",
       "      <td>1</td>\n",
       "    </tr>\n",
       "    <tr>\n",
       "      <th>1</th>\n",
       "      <td>0</td>\n",
       "      <td>36000.0</td>\n",
       "      <td>36</td>\n",
       "      <td>16.02</td>\n",
       "      <td>2</td>\n",
       "      <td>14</td>\n",
       "      <td>1266.01</td>\n",
       "      <td>0</td>\n",
       "      <td>98000.0</td>\n",
       "      <td>10</td>\n",
       "      <td>...</td>\n",
       "      <td>0</td>\n",
       "      <td>0</td>\n",
       "      <td>0</td>\n",
       "      <td>0</td>\n",
       "      <td>0</td>\n",
       "      <td>0</td>\n",
       "      <td>0</td>\n",
       "      <td>0</td>\n",
       "      <td>0</td>\n",
       "      <td>1</td>\n",
       "    </tr>\n",
       "    <tr>\n",
       "      <th>2</th>\n",
       "      <td>0</td>\n",
       "      <td>1200.0</td>\n",
       "      <td>36</td>\n",
       "      <td>16.02</td>\n",
       "      <td>2</td>\n",
       "      <td>14</td>\n",
       "      <td>42.21</td>\n",
       "      <td>0</td>\n",
       "      <td>48000.0</td>\n",
       "      <td>1</td>\n",
       "      <td>...</td>\n",
       "      <td>0</td>\n",
       "      <td>0</td>\n",
       "      <td>0</td>\n",
       "      <td>0</td>\n",
       "      <td>0</td>\n",
       "      <td>0</td>\n",
       "      <td>0</td>\n",
       "      <td>1</td>\n",
       "      <td>0</td>\n",
       "      <td>0</td>\n",
       "    </tr>\n",
       "    <tr>\n",
       "      <th>3</th>\n",
       "      <td>0</td>\n",
       "      <td>24000.0</td>\n",
       "      <td>60</td>\n",
       "      <td>10.42</td>\n",
       "      <td>1</td>\n",
       "      <td>7</td>\n",
       "      <td>514.91</td>\n",
       "      <td>0</td>\n",
       "      <td>63000.0</td>\n",
       "      <td>10</td>\n",
       "      <td>...</td>\n",
       "      <td>0</td>\n",
       "      <td>1</td>\n",
       "      <td>0</td>\n",
       "      <td>0</td>\n",
       "      <td>0</td>\n",
       "      <td>0</td>\n",
       "      <td>0</td>\n",
       "      <td>0</td>\n",
       "      <td>0</td>\n",
       "      <td>0</td>\n",
       "    </tr>\n",
       "    <tr>\n",
       "      <th>4</th>\n",
       "      <td>0</td>\n",
       "      <td>12000.0</td>\n",
       "      <td>36</td>\n",
       "      <td>7.07</td>\n",
       "      <td>0</td>\n",
       "      <td>1</td>\n",
       "      <td>370.91</td>\n",
       "      <td>0</td>\n",
       "      <td>120000.0</td>\n",
       "      <td>4</td>\n",
       "      <td>...</td>\n",
       "      <td>0</td>\n",
       "      <td>0</td>\n",
       "      <td>0</td>\n",
       "      <td>0</td>\n",
       "      <td>0</td>\n",
       "      <td>0</td>\n",
       "      <td>0</td>\n",
       "      <td>0</td>\n",
       "      <td>0</td>\n",
       "      <td>0</td>\n",
       "    </tr>\n",
       "  </tbody>\n",
       "</table>\n",
       "<p>5 rows × 60 columns</p>\n",
       "</div>"
      ],
      "text/plain": [
       "   loan_status  loan_amnt  term  int_rate  grade  sub_grade  installment  \\\n",
       "0            0    18000.0    36     11.99      1          9       597.78   \n",
       "1            0    36000.0    36     16.02      2         14      1266.01   \n",
       "2            0     1200.0    36     16.02      2         14        42.21   \n",
       "3            0    24000.0    60     10.42      1          7       514.91   \n",
       "4            0    12000.0    36      7.07      0          1       370.91   \n",
       "\n",
       "   pymnt_plan  annual_inc  emp_length          ...            purpose_4  \\\n",
       "0           0     40800.0           0          ...                    0   \n",
       "1           0     98000.0          10          ...                    0   \n",
       "2           0     48000.0           1          ...                    0   \n",
       "3           0     63000.0          10          ...                    0   \n",
       "4           0    120000.0           4          ...                    0   \n",
       "\n",
       "   purpose_5  purpose_6  purpose_7  purpose_8  purpose_9  purpose_10  \\\n",
       "0          0          0          0          0          0           0   \n",
       "1          0          0          0          0          0           0   \n",
       "2          0          0          0          0          0           0   \n",
       "3          1          0          0          0          0           0   \n",
       "4          0          0          0          0          0           0   \n",
       "\n",
       "   purpose_11  verification_status_1  verification_status_2  \n",
       "0           0                      0                      1  \n",
       "1           0                      0                      1  \n",
       "2           1                      0                      0  \n",
       "3           0                      0                      0  \n",
       "4           0                      0                      0  \n",
       "\n",
       "[5 rows x 60 columns]"
      ]
     },
     "execution_count": 119,
     "metadata": {},
     "output_type": "execute_result"
    }
   ],
   "source": [
    "df_dum.head()"
   ]
  },
  {
   "cell_type": "markdown",
   "metadata": {},
   "source": [
    "We now shuffle the data and then finally split the data into predictors and the outcomes."
   ]
  },
  {
   "cell_type": "code",
   "execution_count": 120,
   "metadata": {},
   "outputs": [],
   "source": [
    "#Shuffle data frame\n",
    "df_s = shuffle(df_dum) "
   ]
  },
  {
   "cell_type": "code",
   "execution_count": 122,
   "metadata": {},
   "outputs": [],
   "source": [
    "#Separate dependent (y) and independent (X) variables\n",
    "X = np.array(df_s[df_s.columns[1:]])\n",
    "y = np.array(df_s['loan_status'])"
   ]
  },
  {
   "cell_type": "markdown",
   "metadata": {},
   "source": [
    "### 1. Apply three machine-learning techniques to the Full Model\n",
    "\n",
    "Before we run any model, we scale our data using z-score normalization - this data will only be used for certain models since some do not require scaled data - and we initialize the 10-fold cross validation function."
   ]
  },
  {
   "cell_type": "code",
   "execution_count": 123,
   "metadata": {},
   "outputs": [],
   "source": [
    "#Scale all independent variables using Z-Score normalisation\n",
    "z_scaler = StandardScaler().fit(X)\n",
    "X_sc = z_scaler.transform(X)"
   ]
  },
  {
   "cell_type": "code",
   "execution_count": 124,
   "metadata": {},
   "outputs": [],
   "source": [
    "#Initialize kfold cross validation (k = 10)\n",
    "k = 10\n",
    "kfold = model_selection.KFold(n_splits = k, shuffle = False)"
   ]
  },
  {
   "cell_type": "markdown",
   "metadata": {},
   "source": [
    "#### Linear Discriminant Analysis\n",
    "\n",
    "We initialize and run the LDA classifier using kfold cross validation on the scaled data. We report the accuracy and then report a confusion matrix for this model."
   ]
  },
  {
   "cell_type": "code",
   "execution_count": 125,
   "metadata": {},
   "outputs": [
    {
     "name": "stdout",
     "output_type": "stream",
     "text": [
      "The LDA full model accuracy is 84.03%\n",
      "\n"
     ]
    }
   ],
   "source": [
    "#Run LDA classifier using kfold cross validation on the z score scaled data\n",
    "LDA = LinearDiscriminantAnalysis()\n",
    "score_LDA = model_selection.cross_val_score(LDA, X_sc, y, cv = kfold)\n",
    "mean_score_LDA = score_LDA.mean()\n",
    "print('The LDA full model accuracy is %s%%\\n' %round(mean_score_LDA*100, 2))"
   ]
  },
  {
   "cell_type": "code",
   "execution_count": 126,
   "metadata": {},
   "outputs": [
    {
     "name": "stdout",
     "output_type": "stream",
     "text": [
      "                Act 'Current'  Act 'Fail'\n",
      "Pred 'Current'       0.978718    0.895924\n",
      "Pred 'Fail'          0.021282    0.104076\n"
     ]
    }
   ],
   "source": [
    "#Create confusion matrix using kfold cross validation\n",
    "pred_LDA = cross_val_predict(LDA, X_sc, y, cv = kfold)\n",
    "conf = confusion_matrix(y, pred_LDA)\n",
    "conf_LDA = conf.transpose()\n",
    "conf_LDA = normalize(conf_LDA, axis=0, norm='l1')\n",
    "conf_LDA = pd.DataFrame(conf_LDA, index = ['Pred \\'Current\\'', 'Pred \\'Fail\\''],\n",
    "                            columns = ['Act \\'Current\\'', 'Act \\'Fail\\''])\n",
    "\n",
    "print(conf_LDA)"
   ]
  },
  {
   "cell_type": "markdown",
   "metadata": {},
   "source": [
    "#### Classification Tree Model\n",
    "\n",
    "In order to choose the depth parameter for the tree model, we first find the optimal tree depth by comparing the accuracy for trees with depths from 1 to 10. As seen below, we find that the optimal depth below."
   ]
  },
  {
   "cell_type": "code",
   "execution_count": 228,
   "metadata": {},
   "outputs": [
    {
     "name": "stdout",
     "output_type": "stream",
     "text": [
      "Optimal tree depth: 4\n"
     ]
    }
   ],
   "source": [
    "#Find optimal tree depth\n",
    "tree_cv_scores = []\n",
    "\n",
    "for i in range(1, 10): \n",
    "    tree = DecisionTreeClassifier(max_depth = i)\n",
    "    scores = model_selection.cross_val_score(tree, X, y, cv = kfold) \n",
    "    tree_cv_scores.append(scores.mean())\n",
    "    \n",
    "opt_depth = tree_cv_scores.index(max(tree_cv_scores)) + 1\n",
    "print('Optimal tree depth:', opt_depth)"
   ]
  },
  {
   "cell_type": "markdown",
   "metadata": {},
   "source": [
    "We then run the tree using 10fold cross validation on the unscaled data. We report the accuracy of this model, and the confusion matrix for it as well."
   ]
  },
  {
   "cell_type": "code",
   "execution_count": 128,
   "metadata": {},
   "outputs": [
    {
     "name": "stdout",
     "output_type": "stream",
     "text": [
      "The Tree full model accuracy is 84.3%\n",
      "\n"
     ]
    }
   ],
   "source": [
    "#Build tree using kfold cross validation and optimal tree depth = 3 on unscaled data\n",
    "tree_3 = DecisionTreeClassifier(max_depth = opt_depth)\n",
    "tree_scores = model_selection.cross_val_score(tree_3, X, y, cv = kfold)\n",
    "mean_score_tree = tree_scores.mean()\n",
    "print('The Tree full model accuracy is %s%%\\n' %round(mean_score_tree*100, 2))"
   ]
  },
  {
   "cell_type": "code",
   "execution_count": 129,
   "metadata": {},
   "outputs": [
    {
     "name": "stdout",
     "output_type": "stream",
     "text": [
      "                Act 'Current'  Act 'Fail'\n",
      "Pred 'Current'       0.996615    0.974033\n",
      "Pred 'Fail'          0.003385    0.025967\n"
     ]
    }
   ],
   "source": [
    "#Create confusion matrix using kfold cross validation\n",
    "pred_tree = cross_val_predict(tree_3, X, y, cv=kfold)\n",
    "conf = confusion_matrix(y, pred_tree)\n",
    "conf_tree = conf.transpose()\n",
    "conf_tree = normalize(conf_tree, axis=0, norm='l1')\n",
    "conf_tree = pd.DataFrame(conf_tree, index = ['Pred \\'Current\\'', 'Pred \\'Fail\\''],\n",
    "                            columns = ['Act \\'Current\\'', 'Act \\'Fail\\''])\n",
    "\n",
    "print(conf_tree)"
   ]
  },
  {
   "cell_type": "markdown",
   "metadata": {},
   "source": [
    "#### 5-Neareast Neighbours Classifier\n",
    "\n",
    "We apply a nearest-neighbour classifier with neighbours = 5 using 10-fold cross validation on the scaled data. Next, we run the 5NN model, report the accuracy, and finally report the confusion matrix for this model."
   ]
  },
  {
   "cell_type": "code",
   "execution_count": 130,
   "metadata": {},
   "outputs": [
    {
     "name": "stdout",
     "output_type": "stream",
     "text": [
      "The KNN full model accuracy is 82.92%\n",
      "\n"
     ]
    }
   ],
   "source": [
    "#Initialize and Score KNN classifier in-sample using kfold cross validation on scaled data\n",
    "neigh = 5\n",
    "knn = KNeighborsClassifier(n_neighbors = neigh)\n",
    "knn_scores = model_selection.cross_val_score(knn, X_sc, y, cv = kfold)\n",
    "mean_scores_knn = knn_scores.mean()\n",
    "print('The KNN full model accuracy is %s%%\\n' %round(mean_scores_knn*100, 2))"
   ]
  },
  {
   "cell_type": "code",
   "execution_count": 131,
   "metadata": {},
   "outputs": [
    {
     "name": "stdout",
     "output_type": "stream",
     "text": [
      "                Act 'Current'  Act 'Fail'\n",
      "Pred 'Current'       0.968078    0.909477\n",
      "Pred 'Fail'          0.031922    0.090523\n"
     ]
    }
   ],
   "source": [
    "#Create confusion matrix using kfold cross validation\n",
    "pred_knn = cross_val_predict(knn, X_sc, y, cv = kfold)\n",
    "conf = confusion_matrix(y, pred_knn)\n",
    "conf_knn = conf.transpose()\n",
    "conf_knn = normalize(conf_knn, axis=0, norm='l1')\n",
    "conf_knn = pd.DataFrame(conf_knn, index = ['Pred \\'Current\\'', 'Pred \\'Fail\\''],\n",
    "                            columns = ['Act \\'Current\\'', 'Act \\'Fail\\''])\n",
    "\n",
    "print(conf_knn)"
   ]
  },
  {
   "cell_type": "markdown",
   "metadata": {},
   "source": [
    "## 2. Run 5-NN, Tree, LDA on Undersampled Dataset"
   ]
  },
  {
   "cell_type": "markdown",
   "metadata": {},
   "source": [
    "In order to run the 10-fold cross validation correctly on undersampled data, we first define the `classifier` function below. This function allows us to correctly train using the undersampled data, but validate using non-undersampled data. This means that each fold, within the 10-fold cross validation, will run an Undersample function to change only the training set data in that fold."
   ]
  },
  {
   "cell_type": "code",
   "execution_count": 132,
   "metadata": {},
   "outputs": [],
   "source": [
    "#Define function to allow classifier to properly oversample only training data in kfold cross validation \n",
    "def classifier(classifier_type, X, y):\n",
    "    kfold = KFold(n_splits = k, random_state = 42)\n",
    "    kfold.get_n_splits(X)\n",
    "\n",
    "    score_list = []\n",
    "    best_score = 0\n",
    "\n",
    "    conf_matrix = np.zeros((2, 2))\n",
    "\n",
    "    for train_index, valid_index in kfold.split(X):\n",
    "        #Split training / validation set at Kth fold\n",
    "        X_train, X_valid = X[train_index], X[valid_index]\n",
    "        y_train, y_valid = y[train_index], y[valid_index]\n",
    "        \n",
    "        #Undersample training data\n",
    "        rus = RandomUnderSampler(random_state = 42)\n",
    "        X_res, y_res = rus.fit_resample(X_train, y_train)\n",
    "        \n",
    "        #Scale undersampled training set and validation set, using scale fit from training data\n",
    "        scaler = StandardScaler().fit(X_res)\n",
    "        X_train_scaled = scaler.transform(X_res)\n",
    "        X_valid_scaled = scaler.transform(X_valid)\n",
    "    \n",
    "        #Create classifier object\n",
    "        clf = classifier_type\n",
    "        clf.fit(X_train_scaled, y_res)\n",
    "        score = clf.score(X_valid_scaled, y_valid)\n",
    "        score_list.append(score)\n",
    "        \n",
    "        #Set best score\n",
    "        if score > best_score:\n",
    "            best_train_index = train_index\n",
    "            best_valid_index = valid_index\n",
    "                               \n",
    "        #Create confusion matrix for fold k\n",
    "        conf = confusion_matrix(y_valid, clf.predict(X_valid_scaled))\n",
    "    \n",
    "        #Iteratively add confusion matrix to previous\n",
    "        conf_matrix[0][0] += conf[0][0]\n",
    "        conf_matrix[0][1] += conf[0][1]\n",
    "        conf_matrix[1][0] += conf[1][0]\n",
    "        conf_matrix[1][1] += conf[1][1]\n",
    "\n",
    "\n",
    "    conf_clf = conf_matrix.transpose()\n",
    "    conf_clf = normalize(conf_clf, axis = 0, norm = 'l1')\n",
    "    conf_clf = pd.DataFrame(conf_clf, index = ['Pred \\'Current\\'', 'Pred \\'Fail\\''],\n",
    "                                columns = ['Act \\'Current\\'', 'Act \\'Fail\\''])\n",
    "    avg_accuracy = sum(score_list) / len(score_list)\n",
    "    avg_accuracy\n",
    "    \n",
    "    return conf_clf, avg_accuracy"
   ]
  },
  {
   "cell_type": "markdown",
   "metadata": {},
   "source": [
    "**Linear Discriminant Analysis with Undersampled Data**\n",
    "\n",
    "We run the LDA model using the undersampling function above, report the accuracy and return the confusion matrix."
   ]
  },
  {
   "cell_type": "code",
   "execution_count": 176,
   "metadata": {},
   "outputs": [
    {
     "name": "stdout",
     "output_type": "stream",
     "text": [
      "The accuracy of the LDA model with undersampling is 66.13%\n",
      "\n"
     ]
    }
   ],
   "source": [
    "#Run LDA on undersampled data and return accuracy\n",
    "conf_LDA_us, score_LDA_us = classifier(LinearDiscriminantAnalysis(), X, y)\n",
    "print('The accuracy of the LDA model with undersampling is %s%%\\n' %round((score_LDA_us*100),2))"
   ]
  },
  {
   "cell_type": "code",
   "execution_count": 134,
   "metadata": {},
   "outputs": [
    {
     "name": "stdout",
     "output_type": "stream",
     "text": [
      "                Act 'Current'  Act 'Fail'\n",
      "Pred 'Current'       0.666712    0.367577\n",
      "Pred 'Fail'          0.333288    0.632423\n"
     ]
    }
   ],
   "source": [
    "#Return confidence matrix for LDA on undersampled data\n",
    "print(conf_LDA_us)"
   ]
  },
  {
   "cell_type": "markdown",
   "metadata": {},
   "source": [
    "**Tree Model with Undersampled Data**\n",
    "\n",
    "We use the same function but with a Tree model, and we report the accuracy and return the confusion matrix."
   ]
  },
  {
   "cell_type": "code",
   "execution_count": 175,
   "metadata": {},
   "outputs": [
    {
     "name": "stdout",
     "output_type": "stream",
     "text": [
      "The accuracy of the tree model with undersampling is 56.65%\n",
      "\n"
     ]
    }
   ],
   "source": [
    "#Run tree on undersampled data and return accuracy\n",
    "conf_tree_us, score_tree_us = classifier(DecisionTreeClassifier(), X, y)\n",
    "print('The accuracy of the tree model with undersampling is %s%%\\n' %round((score_tree_us*100),2))"
   ]
  },
  {
   "cell_type": "code",
   "execution_count": 136,
   "metadata": {},
   "outputs": [
    {
     "name": "stdout",
     "output_type": "stream",
     "text": [
      "                Act 'Current'  Act 'Fail'\n",
      "Pred 'Current'       0.565887    0.430581\n",
      "Pred 'Fail'          0.434113    0.569419\n"
     ]
    }
   ],
   "source": [
    "#Return confidence matrix for tree on undersampled data\n",
    "print(conf_tree_us)"
   ]
  },
  {
   "cell_type": "markdown",
   "metadata": {},
   "source": [
    "**5-Nearest Neighbour with Undersampled Data**\n",
    "\n",
    "Finally, we run a 5-NN model reporting the accuracy and return the confusion matrix."
   ]
  },
  {
   "cell_type": "code",
   "execution_count": 177,
   "metadata": {},
   "outputs": [
    {
     "name": "stdout",
     "output_type": "stream",
     "text": [
      "The accuracy of the 5-NN model with undersampling is 61.8%\n",
      "\n"
     ]
    }
   ],
   "source": [
    "#Run 5-NN on undersampled data and return accuracy\n",
    "conf_knn_us, score_knn_us = classifier(KNeighborsClassifier(n_neighbors = neigh), X, y)\n",
    "print('The accuracy of the 5-NN model with undersampling is %s%%\\n' %round((score_knn_us*100),2))"
   ]
  },
  {
   "cell_type": "code",
   "execution_count": 138,
   "metadata": {},
   "outputs": [
    {
     "name": "stdout",
     "output_type": "stream",
     "text": [
      "                Act 'Current'  Act 'Fail'\n",
      "Pred 'Current'       0.628681    0.438547\n",
      "Pred 'Fail'          0.371319    0.561453\n"
     ]
    }
   ],
   "source": [
    "#Return confidence matrix for 5-NN on undersampled data\n",
    "print(conf_knn_us)"
   ]
  },
  {
   "cell_type": "markdown",
   "metadata": {},
   "source": [
    "## 3. Feature Selection"
   ]
  },
  {
   "cell_type": "markdown",
   "metadata": {},
   "source": [
    "### 3(a) Selecting features based on knowledge and intuition\n",
    "\n",
    "Based on the detailed response provided in the submitted PDF, the following features were selected based on our knowledge and intuition"
   ]
  },
  {
   "cell_type": "code",
   "execution_count": 139,
   "metadata": {},
   "outputs": [],
   "source": [
    "features = ['annual_inc', 'avg_cur_bal', 'delinq_2yrs', 'inq_last_6mths', 'installment', \n",
    "            'grade', 'tot_hi_cred_lim', 'dti', 'revol_bal', 'total_bal_ex_mort']"
   ]
  },
  {
   "cell_type": "markdown",
   "metadata": {},
   "source": [
    "### 3(b) Creating reduced dataframe model\n",
    "We select the 10 features of the original shuffled dataframe"
   ]
  },
  {
   "cell_type": "code",
   "execution_count": 140,
   "metadata": {},
   "outputs": [],
   "source": [
    "#Create new reduced dependent (y) and independent (X) variables\n",
    "red_columns = features\n",
    "X_reduced = np.array(df_s[red_columns])\n",
    "y_reduced = np.array(df_s['loan_status'])"
   ]
  },
  {
   "cell_type": "markdown",
   "metadata": {},
   "source": [
    "**Logistic Regression on Reduced model**\n",
    "\n",
    "We run a Logistic regression using the reduced dataset and return both the accuracy and the confusion matrix."
   ]
  },
  {
   "cell_type": "code",
   "execution_count": 178,
   "metadata": {},
   "outputs": [
    {
     "name": "stdout",
     "output_type": "stream",
     "text": [
      "The accuracy of the logistic regression model is 66.64%\n",
      "\n"
     ]
    }
   ],
   "source": [
    "#Run Logit on reduced model and return accuracy\n",
    "logit = LogisticRegression(solver = 'lbfgs')\n",
    "conf_log_red, score_log_red = classifier(logit, X_reduced, y_reduced)\n",
    "print('The accuracy of the logistic regression model is %s%%\\n' %round((score_log_red*100),2))"
   ]
  },
  {
   "cell_type": "code",
   "execution_count": 142,
   "metadata": {},
   "outputs": [
    {
     "name": "stdout",
     "output_type": "stream",
     "text": [
      "                Act 'Current'  Act 'Fail'\n",
      "Pred 'Current'       0.677839    0.394579\n",
      "Pred 'Fail'          0.322161    0.605421\n"
     ]
    }
   ],
   "source": [
    "#Return confidence matrix for Logit on reduced model\n",
    "print(conf_log_red)"
   ]
  },
  {
   "cell_type": "markdown",
   "metadata": {},
   "source": [
    "**Tree Model on Reduced model**\n",
    "\n",
    "Next we do the same for the Tree model - run the model using the reduced model and return both the accuracy and the confusion matrix."
   ]
  },
  {
   "cell_type": "code",
   "execution_count": 180,
   "metadata": {},
   "outputs": [
    {
     "name": "stdout",
     "output_type": "stream",
     "text": [
      "The accuracy of the reduced tree model is 56.19%\n",
      "\n"
     ]
    }
   ],
   "source": [
    "#Run Tree on reduced model and return accuracy\n",
    "conf_tree_red, score_tree_red = classifier(DecisionTreeClassifier(), X_reduced, y_reduced)\n",
    "print('The accuracy of the reduced tree model is %s%%\\n' %round((score_tree_red*100),2))"
   ]
  },
  {
   "cell_type": "code",
   "execution_count": 146,
   "metadata": {},
   "outputs": [
    {
     "name": "stdout",
     "output_type": "stream",
     "text": [
      "                Act 'Current'  Act 'Fail'\n",
      "Pred 'Current'        0.56188    0.433892\n",
      "Pred 'Fail'           0.43812    0.566108\n"
     ]
    }
   ],
   "source": [
    "#Return confidence matrix for Tree on reduced model\n",
    "print(conf_tree_red)"
   ]
  },
  {
   "cell_type": "markdown",
   "metadata": {},
   "source": [
    "**5-Nearest Neighbour Classifier on Reduced model**\n",
    "\n",
    "Lastly, we run the reduced model using 5-NN method. We report the accuracy and the confusion matrix."
   ]
  },
  {
   "cell_type": "code",
   "execution_count": 179,
   "metadata": {},
   "outputs": [
    {
     "name": "stdout",
     "output_type": "stream",
     "text": [
      "The accuracy of the 5-NN reduced model is 59.47%\n",
      "\n"
     ]
    }
   ],
   "source": [
    "#Run 5-NN on reduced model and return accuracy\n",
    "conf_knn_red, score_knn_red = classifier(KNeighborsClassifier(n_neighbors = neigh), X_reduced, y_reduced)\n",
    "print('The accuracy of the 5-NN reduced model is %s%%\\n' %round((score_knn_red*100),2))"
   ]
  },
  {
   "cell_type": "code",
   "execution_count": 144,
   "metadata": {},
   "outputs": [
    {
     "name": "stdout",
     "output_type": "stream",
     "text": [
      "                Act 'Current'  Act 'Fail'\n",
      "Pred 'Current'       0.593938    0.401304\n",
      "Pred 'Fail'          0.406062    0.598696\n"
     ]
    }
   ],
   "source": [
    "#Return confidence matrix for 5-NN on reduced model\n",
    "print(conf_knn_red)"
   ]
  },
  {
   "cell_type": "markdown",
   "metadata": {},
   "source": [
    "## 4. ROC Curve"
   ]
  },
  {
   "cell_type": "markdown",
   "metadata": {},
   "source": [
    "In order to draw the ROC curve for each fold within the k-fold cross validation, we define the `draw_ROC` function below. This functions iterates through each fold and draws a ROC curve. It displays each fold's ROC curve and a final mean ROC curve."
   ]
  },
  {
   "cell_type": "code",
   "execution_count": 147,
   "metadata": {},
   "outputs": [],
   "source": [
    "#Define function to draw ROC curve for each iteration through kfold cross validation, and mean ROC curve\n",
    "\n",
    "# ROC FUNCTION BELOW IS BORROWS HEAVILY FROM FOLLOWING KERNEL:\n",
    "# Title: ROC Curve with k-Fold CV\n",
    "# Author: DATAI Group\n",
    "# Date: NA\n",
    "# Code version: NA\n",
    "# Availability: https://www.kaggle.com/kanncaa1/roc-curve-with-k-fold-cv\n",
    "\n",
    "def draw_ROC(classifier_type, X, y):\n",
    "    kfold = KFold(n_splits = k, random_state = 42)\n",
    "    kfold.get_n_splits(X)\n",
    "\n",
    "    fig1 = plt.figure(figsize = [9, 9])\n",
    "    ax1 = fig1.add_subplot(111, aspect = 'equal')\n",
    "\n",
    "    tprs = []\n",
    "    aucs = []\n",
    "    mean_fpr = np.linspace(0, 1, 100)\n",
    "\n",
    "    i = 1\n",
    "    for train_index, valid_index in kfold.split(X):\n",
    "        #Split training / validation set at Kth fold\n",
    "        X_train, X_valid = X[train_index], X[valid_index]\n",
    "        y_train, y_valid = y[train_index], y[valid_index]\n",
    "\n",
    "        #Undersample training data\n",
    "        rus = RandomUnderSampler(random_state = 42)\n",
    "        X_res, y_res = rus.fit_resample(X_train, y_train)\n",
    "\n",
    "        #Scale undersampled training set and validation set, using scale fit from training data\n",
    "        scaler = StandardScaler().fit(X_res)\n",
    "        X_train_scaled = scaler.transform(X_res)\n",
    "        X_valid_scaled = scaler.transform(X_valid)\n",
    "        \n",
    "        #Fit classifier to scaled data and undersampled data\n",
    "        clf = classifier_type.fit(X_train_scaled, y_res)\n",
    "        \n",
    "        #Predict using classifier and plot respective ROC curve\n",
    "        prediction = clf.predict_proba(X_valid_scaled)\n",
    "        fpr, tpr, t = roc_curve(y_valid, prediction[:, 1])\n",
    "        tprs.append(interp(mean_fpr, fpr, tpr))\n",
    "        roc_auc = auc(fpr, tpr)\n",
    "        aucs.append(roc_auc)\n",
    "        plt.plot(fpr, tpr, lw = 2, alpha = 0.3, label = 'ROC fold %d (AUC = %0.2f)' %(i, roc_auc))\n",
    "        i= i+1\n",
    "    \n",
    "    #Calculate and plot mean ROC curve\n",
    "    plt.plot([0,1],[0,1], linestyle = '--', lw = 2, color = 'black')\n",
    "    mean_tpr = np.mean(tprs, axis = 0)\n",
    "    mean_auc = auc(mean_fpr, mean_tpr)\n",
    "    plt.plot(mean_fpr, mean_tpr, color = 'blue',\\\n",
    "             label = r'Mean ROC (AUC = %0.2f )' % (mean_auc), lw = 2, alpha = 1)\n",
    "    \n",
    "    plt.xlabel('False Positive Rate')\n",
    "    plt.ylabel('True Positive Rate')\n",
    "    plt.title('ROC')\n",
    "    plt.legend(loc = \"lower right\")\n",
    "    plt.show()"
   ]
  },
  {
   "cell_type": "markdown",
   "metadata": {},
   "source": [
    "Using the defined function above, we plot the ROC curves for both LDA and 5-NN models.\n",
    "\n",
    "Note that we have chosed to run these for the reduced models."
   ]
  },
  {
   "cell_type": "markdown",
   "metadata": {},
   "source": [
    "**LDA ROC Curve**"
   ]
  },
  {
   "cell_type": "code",
   "execution_count": 149,
   "metadata": {},
   "outputs": [
    {
     "data": {
      "image/png": "[encoded data removed]",
      "text/plain": [
       "<Figure size 648x648 with 1 Axes>"
      ]
     },
     "metadata": {
      "needs_background": "light"
     },
     "output_type": "display_data"
    }
   ],
   "source": [
    "#Plot ROC curve for LDA\n",
    "ROC_LDA = draw_ROC(LinearDiscriminantAnalysis(), X_reduced, y_reduced)"
   ]
  },
  {
   "cell_type": "markdown",
   "metadata": {},
   "source": [
    "**5-Nearest Neighbour ROC Curve**"
   ]
  },
  {
   "cell_type": "code",
   "execution_count": 150,
   "metadata": {},
   "outputs": [
    {
     "data": {
      "image/png": "[encoded data removed]",
      "text/plain": [
       "<Figure size 648x648 with 1 Axes>"
      ]
     },
     "metadata": {
      "needs_background": "light"
     },
     "output_type": "display_data"
    }
   ],
   "source": [
    "#Plot ROC curve for 5-NN\n",
    "ROC_knn = draw_ROC(KNeighborsClassifier(n_neighbors = neigh), X_reduced, y_reduced)"
   ]
  },
  {
   "cell_type": "markdown",
   "metadata": {},
   "source": [
    "## 5. Lasso-Reduced Model\n",
    "\n",
    "The answer for this question is entirely in the PDF submitted."
   ]
  },
  {
   "cell_type": "markdown",
   "metadata": {},
   "source": [
    "## 6. Lasso Approach"
   ]
  },
  {
   "cell_type": "markdown",
   "metadata": {},
   "source": [
    "We first define a function `lasso_classifier` to simplify the running of the model, and to create a confusion matrix."
   ]
  },
  {
   "cell_type": "code",
   "execution_count": 156,
   "metadata": {},
   "outputs": [],
   "source": [
    "def lasso_classifier(classifier_type, X, y):\n",
    "    kfold = KFold(n_splits = k, random_state = 42)\n",
    "    kfold.get_n_splits(X)\n",
    "\n",
    "    score_list = []\n",
    "    best_score = 0\n",
    "\n",
    "    conf_matrix = np.zeros((2,2))\n",
    "\n",
    "    for train_index, valid_index in kfold.split(X):\n",
    "        #Split training / validation set at Kth fold\n",
    "        X_train, X_valid = X[train_index], X[valid_index]\n",
    "        y_train, y_valid = y[train_index], y[valid_index]\n",
    "        \n",
    "        #Undersample training data\n",
    "        rus = RandomUnderSampler(random_state=42)\n",
    "        X_res, y_res = rus.fit_resample(X_train, y_train)\n",
    "        \n",
    "        #Scale undersampled training set and validation set, using scale fit from training data\n",
    "        scaler = StandardScaler().fit(X_res)\n",
    "        X_train_scaled = scaler.transform(X_res)\n",
    "        X_valid_scaled = scaler.transform(X_valid)\n",
    "    \n",
    "        #Create classifier object\n",
    "        clf = classifier_type\n",
    "        clf.fit(X_train_scaled, y_res)\n",
    "        score = clf.score(X_valid_scaled, y_valid)\n",
    "        score_list.append(score)\n",
    "        \n",
    "        y_pred_lasso = clf.predict(X_valid_scaled)\n",
    "        \n",
    "        y_pred_lasso_2 = []\n",
    "        for i in range(len(y_pred_lasso)):\n",
    "            if y_pred_lasso[i] >= 0.5:\n",
    "                y_pred_lasso_2.append(1)\n",
    "            else:\n",
    "                y_pred_lasso_2.append(0) \n",
    "        \n",
    "        #Create confusion matrix for fold k\n",
    "        conf = confusion_matrix(y_valid, y_pred_lasso_2)\n",
    "    \n",
    "        #Iteratively add confusion matrix to the previous\n",
    "        conf_matrix[0][0] += conf[0][0]\n",
    "        conf_matrix[0][1] += conf[0][1]\n",
    "        conf_matrix[1][0] += conf[1][0]\n",
    "        conf_matrix[1][1] += conf[1][1]\n",
    "\n",
    "\n",
    "    conf_clf = conf_matrix.transpose()\n",
    "    conf_clf = normalize(conf_clf, axis = 0, norm = 'l1')\n",
    "    conf_clf = pd.DataFrame(conf_clf, index = ['Pred \\'Current\\'', 'Pred \\'Fail\\''],\n",
    "                                columns = ['Act \\'Current\\'', 'Act \\'Fail\\''])\n",
    "    \n",
    "    avg_accuracy = sum(score_list) / len(score_list)\n",
    "    avg_accuracy\n",
    "    \n",
    "    return conf_clf, avg_accuracy"
   ]
  },
  {
   "cell_type": "markdown",
   "metadata": {},
   "source": [
    "Next, we call the function above with the desired paramater of $\\alpha = 0.1$"
   ]
  },
  {
   "cell_type": "code",
   "execution_count": 157,
   "metadata": {},
   "outputs": [
    {
     "name": "stdout",
     "output_type": "stream",
     "text": [
      "                Act 'Current'  Act 'Fail'\n",
      "Pred 'Current'       0.684823    0.412477\n",
      "Pred 'Fail'          0.315177    0.587523\n"
     ]
    }
   ],
   "source": [
    "#Run lasso model and return confusion matrix\n",
    "conf_lasso, score_lasso = lasso_classifier(Lasso(alpha = 0.1), X, y)\n",
    "print(conf_lasso)"
   ]
  },
  {
   "cell_type": "markdown",
   "metadata": {},
   "source": [
    "## 7. Running the LASSO-MODEL\n",
    "\n",
    "We set an arbritrary list of lambdas and iterate through them to see which lambda returns a model with 10 columns."
   ]
  },
  {
   "cell_type": "code",
   "execution_count": 170,
   "metadata": {},
   "outputs": [
    {
     "name": "stdout",
     "output_type": "stream",
     "text": [
      "A lambda of 0.01 leaves the model with 16 variables\n",
      "A lambda of 0.012 leaves the model with 15 variables\n",
      "A lambda of 0.016 leaves the model with 12 variables\n",
      "A lambda of 0.0168 leaves the model with 10 variables\n",
      "A lambda of 0.017 leaves the model with 9 variables\n",
      "A lambda of 0.018 leaves the model with 8 variables\n",
      "A lambda of 0.05 leaves the model with 1 variables\n",
      "A lambda of 0.1 leaves the model with 1 variables\n",
      "A lambda of 0.5 leaves the model with 0 variables\n",
      "A lambda of 1 leaves the model with 0 variables\n"
     ]
    }
   ],
   "source": [
    "#Find the value for alpha which yields 10 coefs\n",
    "lam = [0.010, 0.012, 0.016, 0.0168, 0.017, 0.018, 0.05, 0.1, 0.5, 1]\n",
    "\n",
    "rus_lasso = RandomUnderSampler(random_state = 42)\n",
    "X_res_lasso, y_res_lasso = rus_lasso.fit_resample(X, y)\n",
    "\n",
    "scaler = StandardScaler().fit(X_res_lasso)\n",
    "X_train_lasso = scaler.transform(X_res_lasso)\n",
    "\n",
    "for i in lam:\n",
    "    lasso = Lasso(alpha = i)\n",
    "    lasso.fit(X_train_lasso, y_res_lasso)\n",
    "    \n",
    "    coeffs = lasso.coef_\n",
    "    \n",
    "    b = 0\n",
    "    for j in range(len(coeffs)):\n",
    "        if coeffs[j] != 0:\n",
    "            b += 1\n",
    "            \n",
    "    print('A lambda of ' + str(i) + ' leaves the model with ' + str(b) + ' variables')\n",
    "    if b == 10:\n",
    "        lamb = i"
   ]
  },
  {
   "cell_type": "markdown",
   "metadata": {},
   "source": [
    "Based on the results above, we can see that the model is left with 10 variables when $lambda = 0.0168$\n",
    "\n",
    "Next, we run the LASSO function using this lambda value and allow it to determine which 10 variables are the important attributes for our Lasso-Model."
   ]
  },
  {
   "cell_type": "code",
   "execution_count": 171,
   "metadata": {},
   "outputs": [
    {
     "data": {
      "text/html": [
       "<div>\n",
       "<style scoped>\n",
       "    .dataframe tbody tr th:only-of-type {\n",
       "        vertical-align: middle;\n",
       "    }\n",
       "\n",
       "    .dataframe tbody tr th {\n",
       "        vertical-align: top;\n",
       "    }\n",
       "\n",
       "    .dataframe thead th {\n",
       "        text-align: right;\n",
       "    }\n",
       "</style>\n",
       "<table border=\"1\" class=\"dataframe\">\n",
       "  <thead>\n",
       "    <tr style=\"text-align: right;\">\n",
       "      <th></th>\n",
       "      <th>Features</th>\n",
       "    </tr>\n",
       "  </thead>\n",
       "  <tbody>\n",
       "    <tr>\n",
       "      <th>0</th>\n",
       "      <td>sub_grade</td>\n",
       "    </tr>\n",
       "    <tr>\n",
       "      <th>1</th>\n",
       "      <td>installment</td>\n",
       "    </tr>\n",
       "    <tr>\n",
       "      <th>2</th>\n",
       "      <td>pymnt_plan</td>\n",
       "    </tr>\n",
       "    <tr>\n",
       "      <th>3</th>\n",
       "      <td>fico_range_high</td>\n",
       "    </tr>\n",
       "    <tr>\n",
       "      <th>4</th>\n",
       "      <td>inq_last_12m</td>\n",
       "    </tr>\n",
       "    <tr>\n",
       "      <th>5</th>\n",
       "      <td>inq_last_6mths</td>\n",
       "    </tr>\n",
       "    <tr>\n",
       "      <th>6</th>\n",
       "      <td>open_rv_24m</td>\n",
       "    </tr>\n",
       "    <tr>\n",
       "      <th>7</th>\n",
       "      <td>tot_hi_cred_lim</td>\n",
       "    </tr>\n",
       "    <tr>\n",
       "      <th>8</th>\n",
       "      <td>home_ownership_1</td>\n",
       "    </tr>\n",
       "    <tr>\n",
       "      <th>9</th>\n",
       "      <td>purpose_1</td>\n",
       "    </tr>\n",
       "  </tbody>\n",
       "</table>\n",
       "</div>"
      ],
      "text/plain": [
       "           Features\n",
       "0         sub_grade\n",
       "1       installment\n",
       "2        pymnt_plan\n",
       "3   fico_range_high\n",
       "4      inq_last_12m\n",
       "5    inq_last_6mths\n",
       "6       open_rv_24m\n",
       "7   tot_hi_cred_lim\n",
       "8  home_ownership_1\n",
       "9         purpose_1"
      ]
     },
     "execution_count": 171,
     "metadata": {},
     "output_type": "execute_result"
    }
   ],
   "source": [
    "#Based on redults above, we have 10 variables when lambda = 0.0168\n",
    "lasso_model = Lasso(alpha = lamb)\n",
    "\n",
    "lasso_model.fit(X_train_lasso, y_res_lasso)\n",
    "\n",
    "lasso_model_coef = list(lasso_model.coef_)\n",
    "\n",
    "all_features = list(df_s[df_s.columns[1:]])\n",
    "select_features = []\n",
    "\n",
    "for i in range(len(lasso_model_coef)):\n",
    "    if lasso_model_coef[i] != 0:\n",
    "        select_features.append(all_features[i])\n",
    "        \n",
    "lasso_model_features = pd.DataFrame(select_features, columns = ['Features'])\n",
    "lasso_model_features"
   ]
  },
  {
   "cell_type": "markdown",
   "metadata": {},
   "source": [
    "## 8. Final Model Selection\n",
    "\n",
    "Based on our detailed explanation (found in the PDF submitted), we select 10 attributes for a final model. Below we chose to run an LDA model using this reduced dataset."
   ]
  },
  {
   "cell_type": "code",
   "execution_count": 183,
   "metadata": {},
   "outputs": [
    {
     "name": "stdout",
     "output_type": "stream",
     "text": [
      "The accuracy of the final model is 66.45%\n",
      "\n"
     ]
    }
   ],
   "source": [
    "#Define the final set of features and run LDA model using this final reduced dataset\n",
    "final_features = ['sub_grade', 'installment', 'fico_range_high', 'inq_last_6mths', 'open_rv_24m',\\\n",
    "                  'total_bc_limit', 'home_ownership_1', 'annual_inc', 'emp_length', 'total_bal_ex_mort']\n",
    "\n",
    "X_reduced_final = np.array(df_s[final_features])\n",
    "\n",
    "conf_final, score_final = classifier(LinearDiscriminantAnalysis(), X_reduced_final, y)\n",
    "print('The accuracy of the final model is %s%%\\n' %round((score_final*100),2))"
   ]
  },
  {
   "cell_type": "code",
   "execution_count": 184,
   "metadata": {},
   "outputs": [
    {
     "name": "stdout",
     "output_type": "stream",
     "text": [
      "                Act 'Current'  Act 'Fail'\n",
      "Pred 'Current'       0.672684    0.378854\n",
      "Pred 'Fail'          0.327316    0.621146\n"
     ]
    }
   ],
   "source": [
    "#Return confustion matrix for the final model\n",
    "print(conf_final)"
   ]
  },
  {
   "cell_type": "markdown",
   "metadata": {},
   "source": [
    "## 9. Full Model vs. Final Model\n",
    "\n",
    "The answer for this question is entirely in the PDF submitted."
   ]
  },
  {
   "cell_type": "markdown",
   "metadata": {},
   "source": [
    "## 10. Model Enhancement\n",
    "\n",
    "The answer for this question is entirely in the PDF submitted."
   ]
  },
  {
   "cell_type": "markdown",
   "metadata": {},
   "source": [
    "# Part 2 \n",
    "\n",
    "## 11. Evaluating Model on Test Data\n",
    "\n",
    "In order to run the model, we must do similar data wrangling as was done in Part 1. We load the data, convert the dependant variable to be binary, convert all categorical variables to binary, and finally split the independant variables and dependant variable."
   ]
  },
  {
   "cell_type": "code",
   "execution_count": 214,
   "metadata": {},
   "outputs": [],
   "source": [
    "# #Load data for Part 2\n",
    "df2 = pd.read_csv('Loan_data_part_II.csv')\n",
    "\n",
    "#Make loan_status binary: current = 0, fail = 1\n",
    "df2['loan_status'] = df2['loan_status'].replace(['Current', 'Fail'], [0, 1])\n",
    "df2 = df2.drop(['id'], axis = 1)\n",
    "\n",
    "#Convert categorical columns to binary\n",
    "df2 = pd.get_dummies(df2, columns = ['home_ownership', 'purpose', 'verification_status'])\n",
    "\n",
    "#Split independant and dependant variables into x_test and y_test\n",
    "X_test = np.array(df2[df2.columns[1:]])\n",
    "y_test = np.array(df2['loan_status'])"
   ]
  },
  {
   "cell_type": "markdown",
   "metadata": {},
   "source": [
    "In order to run the FINAL-MODEL on the test data, we must create a reduced test dataset as well using the final features explained in Question 8."
   ]
  },
  {
   "cell_type": "code",
   "execution_count": 218,
   "metadata": {},
   "outputs": [],
   "source": [
    "#Reduce test set based on final selected features\n",
    "X_test_red = np.array(df2[final_features])"
   ]
  },
  {
   "cell_type": "markdown",
   "metadata": {},
   "source": [
    "Similar to Question 4, to make the ROC Curve plotting process easier, we define a function `draw_test_ROC`. Below, we use this function to plot the curves."
   ]
  },
  {
   "cell_type": "code",
   "execution_count": 222,
   "metadata": {},
   "outputs": [],
   "source": [
    "#Define function to draw ROC curve for the test dataset\n",
    "\n",
    "# ROC FUNCTION BELOW IS BORROWS HEAVILY FROM FOLLOWING KERNEL:\n",
    "# Title: ROC Curve with k-Fold CV\n",
    "# Author: DATAI Group\n",
    "# Date: NA\n",
    "# Code version: NA\n",
    "# Availability: https://www.kaggle.com/kanncaa1/roc-curve-with-k-fold-cv\n",
    "\n",
    "def draw_test_ROC(classifier_type, X_train, y_train, X_test, y_test):\n",
    "    fig1 = plt.figure(figsize = [9, 9])\n",
    "    ax1 = fig1.add_subplot(111, aspect = 'equal')\n",
    "\n",
    "    #Undersample training data\n",
    "    rus = RandomUnderSampler(random_state = 42)\n",
    "    X_res, y_res = rus.fit_resample(X_train, y_train)\n",
    "\n",
    "    ##Scale undersampled training set and validation set, using scale fit from training data\n",
    "    scaler = StandardScaler().fit(X_res)\n",
    "    X_train_scaled = scaler.transform(X_res)\n",
    "    X_test_scaled = scaler.transform(X_test)\n",
    "\n",
    "    clf = classifier_type.fit(X_train_scaled, y_res)\n",
    "        \n",
    "    prediction = clf.predict_proba(X_test_scaled)\n",
    "    fpr, tpr, t = roc_curve(y_test, prediction[:, 1])\n",
    "    roc_auc = auc(fpr, tpr)   \n",
    "    plt.plot([0, 1], [0, 1], linestyle = '--', lw = 2, color = 'black')\n",
    "    plt.plot(fpr, tpr, color = 'blue',\\\n",
    "             label=r'ROC (AUC = %0.2f )' % (roc_auc), lw=  2, alpha = 1)\n",
    "\n",
    "    plt.xlabel('False Positive Rate')\n",
    "    plt.ylabel('True Positive Rate')\n",
    "    plt.title('ROC')\n",
    "    plt.legend(loc = \"lower right\")\n",
    "    plt.show()"
   ]
  },
  {
   "cell_type": "markdown",
   "metadata": {},
   "source": [
    "**Logistic Regression Model**\n",
    "\n",
    "The following is the ROC curve for the out-of-sample test data for the Logistic Regression model using the FINAL-MODEL from Question 8."
   ]
  },
  {
   "cell_type": "code",
   "execution_count": 224,
   "metadata": {},
   "outputs": [
    {
     "data": {
      "image/png": "[encoded data removed]",
      "text/plain": [
       "<Figure size 648x648 with 1 Axes>"
      ]
     },
     "metadata": {
      "needs_background": "light"
     },
     "output_type": "display_data"
    }
   ],
   "source": [
    "#Plot the ROC curve using the Logit model and final_reduced columns\n",
    "draw_test_ROC(LogisticRegression(solver = 'lbfgs'), X_reduced_final, y_reduced, X_test_red, y_test)"
   ]
  },
  {
   "cell_type": "markdown",
   "metadata": {},
   "source": [
    "**LDA Model**\n",
    "\n",
    "The following is the ROC curve for the out-of-sample test data for the LDA model using the FINAL-MODEL from Question 8."
   ]
  },
  {
   "cell_type": "code",
   "execution_count": 225,
   "metadata": {},
   "outputs": [
    {
     "data": {
      "image/png": "[encoded data removed]",
      "text/plain": [
       "<Figure size 648x648 with 1 Axes>"
      ]
     },
     "metadata": {
      "needs_background": "light"
     },
     "output_type": "display_data"
    }
   ],
   "source": [
    "#Plot the ROC curve using the LDA model and final_reduced columns\n",
    "draw_test_ROC(LinearDiscriminantAnalysis(), X_reduced_final, y_reduced, X_test_red, y_test)"
   ]
  },
  {
   "cell_type": "markdown",
   "metadata": {},
   "source": [
    "**5-Nearest Neighbour Model**\n",
    "\n",
    "The following is the ROC curve for the out-of-sample test data for the 5-NN model using the FINAL-MODEL from Question 8."
   ]
  },
  {
   "cell_type": "code",
   "execution_count": 227,
   "metadata": {},
   "outputs": [
    {
     "data": {
      "image/png": "[encoded data removed]",
      "text/plain": [
       "<Figure size 648x648 with 1 Axes>"
      ]
     },
     "metadata": {
      "needs_background": "light"
     },
     "output_type": "display_data"
    }
   ],
   "source": [
    "#Plot the ROC curve using the 5-NN model and final_reduced columns\n",
    "draw_test_ROC(KNeighborsClassifier(n_neighbors = neigh), X_reduced_final, y_reduced, X_test_red, y_test)"
   ]
  },
  {
   "cell_type": "markdown",
   "metadata": {},
   "source": [
    "### REFERENCES\n",
    "\n",
    " 1. James, G., Witten, D., Hastie, T. and Tibshirani, R. (2013). An Introduction to Statistical Learning. New York, NY: Springer New York.\n",
    " 2. DATAI Group, Smith, J (No Data) ROC Curve with k-Fold CV (No version) [Source code]. https://www.kaggle.com/kanncaa1/roc-curve-with-k-fold-cv <br>\n",
    " 3. Altini, M. (2015). Dealing with imbalanced data: undersampling, oversampling and proper cross-validation. [online] Marco Altini. Available at: https://www.marcoaltini.com/blog/dealing-with-imbalanced-data-undersampling-oversampling-and-proper-cross-validation [Accessed 12 Feb. 2019]. <br>"
   ]
  }
 ],
 "metadata": {
  "kernelspec": {
   "display_name": "Python 3",
   "language": "python",
   "name": "python3"
  },
  "language_info": {
   "codemirror_mode": {
    "name": "ipython",
    "version": 3
   },
   "file_extension": ".py",
   "mimetype": "text/x-python",
   "name": "python",
   "nbconvert_exporter": "python",
   "pygments_lexer": "ipython3",
   "version": "3.7.3"
  }
 },
 "nbformat": 4,
 "nbformat_minor": 2
}
